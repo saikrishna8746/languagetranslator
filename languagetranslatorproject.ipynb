{
 "cells": [
  {
   "cell_type": "code",
   "execution_count": 3,
   "id": "ec651277-0134-47bd-bd98-7b3a89beb00b",
   "metadata": {},
   "outputs": [
    {
     "name": "stdout",
     "output_type": "stream",
     "text": [
      "Collecting googletrans==4.0.0-rc1\n",
      "  Using cached googletrans-4.0.0rc1-py3-none-any.whl\n",
      "Collecting httpx==0.13.3 (from googletrans==4.0.0-rc1)\n",
      "  Using cached httpx-0.13.3-py3-none-any.whl.metadata (25 kB)\n",
      "Requirement already satisfied: certifi in c:\\users\\chera\\appdata\\local\\programs\\python\\python311\\lib\\site-packages (from httpx==0.13.3->googletrans==4.0.0-rc1) (2024.2.2)\n",
      "Collecting hstspreload (from httpx==0.13.3->googletrans==4.0.0-rc1)\n",
      "  Using cached hstspreload-2024.9.1-py3-none-any.whl.metadata (2.1 kB)\n",
      "Requirement already satisfied: sniffio in c:\\users\\chera\\appdata\\local\\programs\\python\\python311\\lib\\site-packages (from httpx==0.13.3->googletrans==4.0.0-rc1) (1.3.1)\n",
      "Collecting chardet==3.* (from httpx==0.13.3->googletrans==4.0.0-rc1)\n",
      "  Using cached chardet-3.0.4-py2.py3-none-any.whl.metadata (3.2 kB)\n",
      "Collecting idna==2.* (from httpx==0.13.3->googletrans==4.0.0-rc1)\n",
      "  Using cached idna-2.10-py2.py3-none-any.whl.metadata (9.1 kB)\n",
      "Collecting rfc3986<2,>=1.3 (from httpx==0.13.3->googletrans==4.0.0-rc1)\n",
      "  Using cached rfc3986-1.5.0-py2.py3-none-any.whl.metadata (6.5 kB)\n",
      "Collecting httpcore==0.9.* (from httpx==0.13.3->googletrans==4.0.0-rc1)\n",
      "  Using cached httpcore-0.9.1-py3-none-any.whl.metadata (4.6 kB)\n",
      "Collecting h11<0.10,>=0.8 (from httpcore==0.9.*->httpx==0.13.3->googletrans==4.0.0-rc1)\n",
      "  Using cached h11-0.9.0-py2.py3-none-any.whl.metadata (8.1 kB)\n",
      "Collecting h2==3.* (from httpcore==0.9.*->httpx==0.13.3->googletrans==4.0.0-rc1)\n",
      "  Using cached h2-3.2.0-py2.py3-none-any.whl.metadata (32 kB)\n",
      "Collecting hyperframe<6,>=5.2.0 (from h2==3.*->httpcore==0.9.*->httpx==0.13.3->googletrans==4.0.0-rc1)\n",
      "  Using cached hyperframe-5.2.0-py2.py3-none-any.whl.metadata (7.2 kB)\n",
      "Collecting hpack<4,>=3.0 (from h2==3.*->httpcore==0.9.*->httpx==0.13.3->googletrans==4.0.0-rc1)\n",
      "  Using cached hpack-3.0.0-py2.py3-none-any.whl.metadata (7.0 kB)\n",
      "Using cached httpx-0.13.3-py3-none-any.whl (55 kB)\n",
      "Using cached chardet-3.0.4-py2.py3-none-any.whl (133 kB)\n",
      "Using cached httpcore-0.9.1-py3-none-any.whl (42 kB)\n",
      "Using cached idna-2.10-py2.py3-none-any.whl (58 kB)\n",
      "Using cached h2-3.2.0-py2.py3-none-any.whl (65 kB)\n",
      "Using cached rfc3986-1.5.0-py2.py3-none-any.whl (31 kB)\n",
      "Using cached hstspreload-2024.9.1-py3-none-any.whl (1.2 MB)\n",
      "Using cached h11-0.9.0-py2.py3-none-any.whl (53 kB)\n",
      "Using cached hpack-3.0.0-py2.py3-none-any.whl (38 kB)\n",
      "Using cached hyperframe-5.2.0-py2.py3-none-any.whl (12 kB)\n",
      "Installing collected packages: rfc3986, hyperframe, hpack, h11, chardet, idna, hstspreload, h2, httpcore, httpx, googletrans\n",
      "  Attempting uninstall: h11\n",
      "    Found existing installation: h11 0.14.0\n",
      "    Uninstalling h11-0.14.0:\n",
      "      Successfully uninstalled h11-0.14.0\n",
      "  Attempting uninstall: idna\n",
      "    Found existing installation: idna 3.7\n",
      "    Uninstalling idna-3.7:\n",
      "      Successfully uninstalled idna-3.7\n",
      "  Attempting uninstall: httpcore\n",
      "    Found existing installation: httpcore 1.0.5\n",
      "    Uninstalling httpcore-1.0.5:\n",
      "      Successfully uninstalled httpcore-1.0.5\n",
      "  Attempting uninstall: httpx\n",
      "    Found existing installation: httpx 0.27.0\n",
      "    Uninstalling httpx-0.27.0:\n",
      "      Successfully uninstalled httpx-0.27.0\n",
      "Successfully installed chardet-3.0.4 googletrans-4.0.0rc1 h11-0.9.0 h2-3.2.0 hpack-3.0.0 hstspreload-2024.9.1 httpcore-0.9.1 httpx-0.13.3 hyperframe-5.2.0 idna-2.10 rfc3986-1.5.0\n"
     ]
    },
    {
     "name": "stderr",
     "output_type": "stream",
     "text": [
      "ERROR: pip's dependency resolver does not currently take into account all the packages that are installed. This behaviour is the source of the following dependency conflicts.\n",
      "jupyterlab 4.2.1 requires httpx>=0.25.0, but you have httpx 0.13.3 which is incompatible.\n"
     ]
    }
   ],
   "source": [
    "!pip install googletrans==4.0.0-rc1"
   ]
  },
  {
   "cell_type": "code",
   "execution_count": 4,
   "id": "b667a349-73e8-4985-a1af-6264c79eadeb",
   "metadata": {},
   "outputs": [],
   "source": [
    "from tkinter import *\n",
    "from tkinter import ttk\n",
    "from googletrans import Translator,LANGUAGES"
   ]
  },
  {
   "cell_type": "code",
   "execution_count": null,
   "id": "7aedb328-d895-4181-940b-e05e61b53329",
   "metadata": {},
   "outputs": [],
   "source": [
    "\n"
   ]
  },
  {
   "cell_type": "code",
   "execution_count": 5,
   "id": "8d1ae6d4-11cd-4f29-b1ef-db8a438535b4",
   "metadata": {},
   "outputs": [],
   "source": [
    "import tkinter as tk\n",
    "from tkinter import ttk\n",
    "from googletrans import Translator, LANGUAGES\n",
    "import threading\n",
    "\n",
    "def run_tkinter():\n",
    "    root = tk.Tk()\n",
    "    root.geometry('1100x320')\n",
    "    root.resizable(0, 0)\n",
    "    root['bg'] = 'skyblue'\n",
    "    root.title('Language Translator by Simplilearn')\n",
    "\n",
    "    \n",
    "    tk.Label(root, text=\"Language Translator\", font=\"Arial 20 bold\", bg='skyblue').pack(pady=20)\n",
    "\n",
    "    \n",
    "    tk.Label(root, text=\"Enter Text\", font='Arial 13 bold', bg='white smoke').place(x=165, y=90)\n",
    "\n",
    "    \n",
    "    input_text = tk.Entry(root, width=60)\n",
    "    input_text.place(x=30, y=130)\n",
    "\n",
    "    \n",
    "    tk.Label(root, text=\"Output\", font='Arial 13 bold', bg='white smoke').place(x=780, y=90)\n",
    "\n",
    "    \n",
    "    output_text = tk.Text(root, font='Arial 10', height=11, wrap=tk.WORD, padx=5, pady=5, width=50)\n",
    "    output_text.place(x=600, y=130)\n",
    "\n",
    "    \n",
    "    language_list = list(LANGUAGES.values())\n",
    "    dest_lang = ttk.Combobox(root, values=language_list, width=22)\n",
    "    dest_lang.place(x=130, y=180)\n",
    "    dest_lang.set('choose language')\n",
    "\n",
    "    \n",
    "    def get_language_code(lang_name):\n",
    "        for code, name in LANGUAGES.items():\n",
    "            if name.lower() == lang_name.lower():\n",
    "                return code\n",
    "        return None\n",
    "\n",
    "    \n",
    "    def Translate():\n",
    "        try:\n",
    "            translator = Translator()\n",
    "            lang_code = get_language_code(dest_lang.get())  \n",
    "            if not lang_code:\n",
    "                output_text.delete(1.0, tk.END)\n",
    "                output_text.insert(tk.END, \"Error: Invalid language selected\")\n",
    "                return\n",
    "            translated = translator.translate(text=input_text.get(), dest=lang_code)\n",
    "            output_text.delete(1.0, tk.END)\n",
    "            output_text.insert(tk.END, translated.text)\n",
    "        except Exception as e:\n",
    "            output_text.delete(1.0, tk.END)\n",
    "            output_text.insert(tk.END, f\"Error: {e}\")\n",
    "\n",
    "    \n",
    "    trans_btn = tk.Button(root, text='Translate', font='Arial 12 bold', pady=5, command=Translate, bg='orange', activebackground='green')\n",
    "    trans_btn.place(x=445, y=180)\n",
    "\n",
    "    root.mainloop()\n",
    "\n",
    "threading.Thread(target=run_tkinter).start()\n"
   ]
  },
  {
   "cell_type": "code",
   "execution_count": null,
   "id": "83790ce2-cc28-4ec6-ad7a-a8e0e2ad8a9d",
   "metadata": {},
   "outputs": [],
   "source": []
  }
 ],
 "metadata": {
  "kernelspec": {
   "display_name": "Python 3 (ipykernel)",
   "language": "python",
   "name": "python3"
  },
  "language_info": {
   "codemirror_mode": {
    "name": "ipython",
    "version": 3
   },
   "file_extension": ".py",
   "mimetype": "text/x-python",
   "name": "python",
   "nbconvert_exporter": "python",
   "pygments_lexer": "ipython3",
   "version": "3.11.9"
  }
 },
 "nbformat": 4,
 "nbformat_minor": 5
}
